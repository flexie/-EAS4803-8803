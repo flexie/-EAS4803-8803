{
 "cells": [
  {
   "cell_type": "markdown",
   "metadata": {},
   "source": [
    "# Exercise 5: From processing to inversion I"
   ]
  },
  {
   "cell_type": "markdown",
   "metadata": {},
   "source": [
    "# Contents\n",
    " - Linear systems\n",
    " - SPOT\n",
    " - Deconvolotion"
   ]
  },
  {
   "cell_type": "markdown",
   "metadata": {},
   "source": [
    "## Linear systems\n",
    "A matrix is represented in Julia as follows"
   ]
  },
  {
   "cell_type": "code",
   "execution_count": 1,
   "metadata": {},
   "outputs": [
    {
     "data": {
      "text/plain": [
       "2×2 Array{Int64,2}:\n",
       " 1   2\n",
       " 3  -1"
      ]
     },
     "execution_count": 1,
     "metadata": {},
     "output_type": "execute_result"
    }
   ],
   "source": [
    "A = [1 2;3 -1]"
   ]
  },
  {
   "cell_type": "markdown",
   "metadata": {},
   "source": [
    "The transpose of a matrix is obtained via\n",
    "\n",
    "A'"
   ]
  },
  {
   "cell_type": "code",
   "execution_count": 2,
   "metadata": {},
   "outputs": [
    {
     "data": {
      "text/plain": [
       "2×2 LinearAlgebra.Adjoint{Int64,Array{Int64,2}}:\n",
       " 1   3\n",
       " 2  -1"
      ]
     },
     "execution_count": 2,
     "metadata": {},
     "output_type": "execute_result"
    }
   ],
   "source": [
    "A'"
   ]
  },
  {
   "cell_type": "markdown",
   "metadata": {},
   "source": [
    "In a similar manner, we can define a column vector as follows"
   ]
  },
  {
   "cell_type": "code",
   "execution_count": 3,
   "metadata": {},
   "outputs": [
    {
     "data": {
      "text/plain": [
       "2-element Array{Int64,1}:\n",
       " 2\n",
       " 2"
      ]
     },
     "execution_count": 3,
     "metadata": {},
     "output_type": "execute_result"
    }
   ],
   "source": [
    "x = [2; 2]"
   ]
  },
  {
   "cell_type": "markdown",
   "metadata": {},
   "source": [
    " - Desribe two ways to define a row vector."
   ]
  },
  {
   "cell_type": "markdown",
   "metadata": {},
   "source": [
    "Now, consider the matrices\n",
    "\n"
   ]
  },
  {
   "cell_type": "code",
   "execution_count": 4,
   "metadata": {},
   "outputs": [],
   "source": [
    "A1 = [1/sqrt(2) 2/3 sqrt(2)/6;0 1/3 -2*sqrt(2)/3;-1/sqrt(2) 2/3 sqrt(2)/6];\n",
    "A2 = [0 2 2;2 1 -3;1 0 -2];\n",
    "A3 = [3 1;1 0;2 1];\n",
    "A4 = [2 4 3; 1 3 1];"
   ]
  },
  {
   "cell_type": "markdown",
   "metadata": {},
   "source": [
    "# Questions\n",
    "\n",
    " - Look at A1'*A1, what kind of matrix is A1? What does this mean?\n",
    " - Look at A2*[1;2;3] and A2*[3;1;4], what can you say about the matrix A2?\n",
    " - What do you call a linear system defined by matrix A3?\n",
    " - What do you call a linear system defined by matrix A4?\n",
    "\n",
    "If a matrix is invertible, we can explicitly find the inverse with inv\n",
    "\n",
    " - find a solution of A1*x = [6;-3;0], is there only one solution? Do you really need inv here?\n",
    " - find a solution of A2*x = [4;0;-1], is there only one solution? What characterizes the solution you found?\n",
    " - find a solution of A3*x = [5;2;5], is there only one solution? What characterizes the solution you found?\n",
    " - find a solution of A4*x = [10;5], is there only one solution? What characterizes the solution you found?\n"
   ]
  },
  {
   "cell_type": "markdown",
   "metadata": {},
   "source": [
    "# JOLI\n",
    "\n",
    "https://github.com/slimgroup/JOLI.jl\n",
    "\n",
    "The JOLI toolbox gives a way to represent matrices implicitly. A nice example is the Fourier transform. In julia, the Fourier transform of a vector is given by fft(x). We can explicitly construct a matrix representing the Fourier transform as follows"
   ]
  },
  {
   "cell_type": "code",
   "execution_count": 5,
   "metadata": {},
   "outputs": [],
   "source": [
    "using FFTW\n",
    "# dimension\n",
    "N  = 10\n",
    "F1 = zeros(Complex{Float64}, N,N)\n",
    "for k = 1:N\n",
    "    # construct k-th unit vector\n",
    "    ek = zeros(N,1)\n",
    "    ek[k] = 1\n",
    "\n",
    "    # make column of matrix\n",
    "    F1[:, k]= fft(ek)\n",
    "end\n"
   ]
  },
  {
   "cell_type": "markdown",
   "metadata": {},
   "source": [
    " - Look at the matrix, what do you notice?\n",
    " - Verify that it gives the same result as fft by trying on a vector"
   ]
  },
  {
   "cell_type": "markdown",
   "metadata": {},
   "source": [
    "We can also define the FFT using JOLI:"
   ]
  },
  {
   "cell_type": "code",
   "execution_count": 6,
   "metadata": {},
   "outputs": [],
   "source": [
    "using JOLI"
   ]
  },
  {
   "cell_type": "code",
   "execution_count": 7,
   "metadata": {},
   "outputs": [
    {
     "data": {
      "text/plain": [
       "joLinearFunction{Float64,Complex{Float64}}(\"joDFTp\", 10, 10, getfield(JOLI, Symbol(\"##837#853\")){DataType,Tuple{Int64},FFTW.cFFTWPlan{Complex{Float64},-1,false,1}}(Complex{Float64}, (10,), FFTW forward plan for 10-element array of Complex{Float64}\n",
       "(dft-direct-10 \"n2fv_10_avx2_128\")), Nullable{Function}(getfield(JOLI, Symbol(\"##240#244\")){getfield(JOLI, Symbol(\"##838#854\")){DataType,Tuple{Int64},AbstractFFTs.ScaledPlan{Complex{Float64},FFTW.cFFTWPlan{Complex{Float64},1,false,1},Float64}}}(getfield(JOLI, Symbol(\"##838#854\")){DataType,Tuple{Int64},AbstractFFTs.ScaledPlan{Complex{Float64},FFTW.cFFTWPlan{Complex{Float64},1,false,1},Float64}}(Float64, (10,), 0.1 * FFTW backward plan for 10-element array of Complex{Float64}\n",
       "(dft-direct-10 \"n2bv_10_avx2_128\")))), Nullable{Function}(getfield(JOLI, Symbol(\"##838#854\")){DataType,Tuple{Int64},AbstractFFTs.ScaledPlan{Complex{Float64},FFTW.cFFTWPlan{Complex{Float64},1,false,1},Float64}}(Float64, (10,), 0.1 * FFTW backward plan for 10-element array of Complex{Float64}\n",
       "(dft-direct-10 \"n2bv_10_avx2_128\"))), Nullable{Function}(getfield(JOLI, Symbol(\"##241#245\")){getfield(JOLI, Symbol(\"##837#853\")){DataType,Tuple{Int64},FFTW.cFFTWPlan{Complex{Float64},-1,false,1}}}(getfield(JOLI, Symbol(\"##837#853\")){DataType,Tuple{Int64},FFTW.cFFTWPlan{Complex{Float64},-1,false,1}}(Complex{Float64}, (10,), FFTW forward plan for 10-element array of Complex{Float64}\n",
       "(dft-direct-10 \"n2fv_10_avx2_128\")))), true, Nullable{Function}(getfield(JOLI, Symbol(\"##839#855\")){DataType,Tuple{Int64},AbstractFFTs.ScaledPlan{Complex{Float64},FFTW.cFFTWPlan{Complex{Float64},1,false,1},Float64}}(Float64, (10,), 0.1 * FFTW backward plan for 10-element array of Complex{Float64}\n",
       "(dft-direct-10 \"n2bv_10_avx2_128\"))), Nullable{Function}(getfield(JOLI, Symbol(\"##242#246\")){getfield(JOLI, Symbol(\"##840#856\")){DataType,Tuple{Int64},FFTW.cFFTWPlan{Complex{Float64},-1,false,1}}}(getfield(JOLI, Symbol(\"##840#856\")){DataType,Tuple{Int64},FFTW.cFFTWPlan{Complex{Float64},-1,false,1}}(Complex{Float64}, (10,), FFTW forward plan for 10-element array of Complex{Float64}\n",
       "(dft-direct-10 \"n2fv_10_avx2_128\")))), Nullable{Function}(getfield(JOLI, Symbol(\"##840#856\")){DataType,Tuple{Int64},FFTW.cFFTWPlan{Complex{Float64},-1,false,1}}(Complex{Float64}, (10,), FFTW forward plan for 10-element array of Complex{Float64}\n",
       "(dft-direct-10 \"n2fv_10_avx2_128\"))), Nullable{Function}(getfield(JOLI, Symbol(\"##243#247\")){getfield(JOLI, Symbol(\"##839#855\")){DataType,Tuple{Int64},AbstractFFTs.ScaledPlan{Complex{Float64},FFTW.cFFTWPlan{Complex{Float64},1,false,1},Float64}}}(getfield(JOLI, Symbol(\"##839#855\")){DataType,Tuple{Int64},AbstractFFTs.ScaledPlan{Complex{Float64},FFTW.cFFTWPlan{Complex{Float64},1,false,1},Float64}}(Float64, (10,), 0.1 * FFTW backward plan for 10-element array of Complex{Float64}\n",
       "(dft-direct-10 \"n2bv_10_avx2_128\")))), true)"
      ]
     },
     "execution_count": 7,
     "metadata": {},
     "output_type": "execute_result"
    }
   ],
   "source": [
    "F2  = joDFT(N)"
   ]
  },
  {
   "cell_type": "code",
   "execution_count": 8,
   "metadata": {},
   "outputs": [
    {
     "data": {
      "text/plain": [
       "(| name |      size | summary                         |\n",
       "|:---- | ---------:|:------------------------------- |\n",
       "| F1   | 1.602 KiB | 10×10 Array{Complex{Float64},2} |\n",
       ", | name |      size | summary                                    |\n",
       "|:---- | ---------:|:------------------------------------------ |\n",
       "| F2   | 566 bytes | joLinearFunction{Float64,Complex{Float64}} |\n",
       ")"
      ]
     },
     "execution_count": 8,
     "metadata": {},
     "output_type": "execute_result"
    }
   ],
   "source": [
    "varinfo(r\"F1\"), varinfo(r\"F2\")"
   ]
  },
  {
   "cell_type": "markdown",
   "metadata": {},
   "source": [
    "And this is only a small example! The reason why we want to have such operations behave like matrices is that we can use (some) standard algorithms that where written to work with matrices to work with large scale operations. As an example we use a Gaussian matrix:"
   ]
  },
  {
   "cell_type": "code",
   "execution_count": 9,
   "metadata": {},
   "outputs": [],
   "source": [
    "N  = 10000;\n",
    "# NxN Gaussian matrix\n",
    "G1 = ones(N, N);"
   ]
  },
  {
   "cell_type": "code",
   "execution_count": 10,
   "metadata": {},
   "outputs": [],
   "source": [
    "# NxN Gaussian JOLI operator (will represent a different matrix than G1 becuase it is gerenated randomly)\n",
    "G2 = joOnes(N);"
   ]
  },
  {
   "cell_type": "code",
   "execution_count": 11,
   "metadata": {},
   "outputs": [
    {
     "data": {
      "text/plain": [
       "(| name |        size | summary                      |\n",
       "|:---- | -----------:|:---------------------------- |\n",
       "| G1   | 762.939 MiB | 10000×10000 Array{Float64,2} |\n",
       ", | name |      size | summary                   |\n",
       "|:---- | ---------:|:------------------------- |\n",
       "| G2   | 246 bytes | joMatrix{Float64,Float64} |\n",
       ")"
      ]
     },
     "execution_count": 11,
     "metadata": {},
     "output_type": "execute_result"
    }
   ],
   "source": [
    "varinfo(r\"G1\"),varinfo(r\"G2\")"
   ]
  },
  {
   "cell_type": "markdown",
   "metadata": {},
   "source": [
    "# Deconvolution\n",
    "We some signal $f(t)$ which is a convolution of some unkown signal $g(t)$ and a known filter $w(t)$. Given $f$ and $w$ we would like to retreive $g$.\n",
    "\n",
    "For the example we use:\n",
    "\n",
    " "
   ]
  },
  {
   "cell_type": "code",
   "execution_count": 12,
   "metadata": {},
   "outputs": [
    {
     "name": "stderr",
     "output_type": "stream",
     "text": [
      "┌ Info: Recompiling stale cache file /home/yzhang3198/.julia/compiled/v1.2/PyPlot/oatAj.ji for PyPlot [d330b81b-6aea-500a-939a-2ce795aea3ee]\n",
      "└ @ Base loading.jl:1240\n"
     ]
    },
    {
     "data": {
      "image/png": "[encoded data removed]",
      "text/plain": [
       "Figure(PyObject <Figure size 640x480 with 1 Axes>)"
      ]
     },
     "metadata": {},
     "output_type": "display_data"
    },
    {
     "data": {
      "image/png": "[encoded data removed]",
      "text/plain": [
       "Figure(PyObject <Figure size 640x480 with 1 Axes>)"
      ]
     },
     "metadata": {},
     "output_type": "display_data"
    }
   ],
   "source": [
    "# time axis\n",
    "t = 0:.001:2';\n",
    "N = length(t);\n",
    "\n",
    "# true signal g has approx k spikes with random amplitudes\n",
    "k = 20;\n",
    "g = zeros(N,1);\n",
    "g[rand(1:N, k)] = randn(k,1);\n",
    "\n",
    "# filter\n",
    "w = (1 .-2*1e3*(t .-.2).^2).*exp.(-1e3*(t .-.2).^2);\n",
    "\n",
    "# plot\n",
    "using PyPlot\n",
    "figure();\n",
    "plot(t,g);\n",
    "xlabel(\"t [s]\");ylabel(\"g(t)\");\n",
    "\n",
    "figure();\n",
    "plot(t,w);\n",
    "xlabel(\"t [s]\");ylabel(\"w(t)\");"
   ]
  },
  {
   "cell_type": "markdown",
   "metadata": {},
   "source": [
    "First, we consider the `forward` problem of convolving a signal, using JOLI.\n",
    "\n",
    "Perform the convolution using the usual julia commands fft, ifft and element-wise multiplication .*.\n",
    "Creat a JOLI operator to do the same. You can construct an operator to do the multiplication with the filter using joDiag.\n",
    " - Compare the results of both.\n",
    " - Compare f to g, what do you notice?\n",
    " - Assuming that your convolution operator is called C:\n",
    "\n",
    "Now, construct the signal f using your SPOT operator and add some noise (i.e., f = C*g + 1e-1*randn(N,1)).\n",
    "Do you think C has a null-space? If so, describe it. (Hint: look at the filter).\n",
    "Use the adjoint of C as an approximation to the inverse, what does this correspond to and what does the reconstruction look like?\n",
    " - Describe how you would invert the system.\n",
    " - Use lsqr to do it. (you might need to increase the number of iterations.)\n",
    " - Look at the signal that is predicted by your reconstruction, do you see a difference with the true signal?\n",
    "\n",
    "lsqr will give us a solution that has a small two-norm and explains the data. Alternatively, we can use another solver that will give us a spiky solution and explains the data. This solver is spgl1. Try spgl1(C,f,0,1e-2).\n",
    "\n",
    "https://github.com/slimgroup/GenSPGL.jl\n",
    "\n",
    " - Is this solution closer to the true one?\n",
    " - Look at the predicted signal for this solution, do you see a difference with the true signal? Can we really say that this is a better solution? "
   ]
  },
  {
   "cell_type": "code",
   "execution_count": 13,
   "metadata": {},
   "outputs": [
    {
     "name": "stderr",
     "output_type": "stream",
     "text": [
      "┌ Info: Recompiling stale cache file /home/yzhang3198/.julia/compiled/v1.2/GenSPGL/1rFbK.ji for GenSPGL [46767539-6b09-4d43-90af-09e8ecbe3fb9]\n",
      "└ @ Base loading.jl:1240\n"
     ]
    }
   ],
   "source": [
    "using GenSPGL\n",
    "# Pkg.clone(\"https://github.com/slimgroup/GenSPGL.jl\")"
   ]
  },
  {
   "cell_type": "code",
   "execution_count": 14,
   "metadata": {},
   "outputs": [],
   "source": [
    "# FFT convolution\n",
    "wf = fft(w);\n",
    "f1 = ifft(wf.*fft(g));"
   ]
  },
  {
   "cell_type": "code",
   "execution_count": 15,
   "metadata": {},
   "outputs": [
    {
     "data": {
      "image/png": "[encoded data removed]",
      "text/plain": [
       "Figure(PyObject <Figure size 640x480 with 1 Axes>)"
      ]
     },
     "metadata": {},
     "output_type": "display_data"
    }
   ],
   "source": [
    "# JOLI operator to perform convolution.\n",
    "C = joDFT(N)'*joDiag(wf)*joDFT(N);\n",
    "f2 = C*g;\n",
    "\n",
    "figure();\n",
    "plot(t,f1)\n",
    "plot(t,f2)\n",
    "plot(t,g);\n",
    "xlabel(\"t [s]\");ylabel(\"f(t)\");legend([\"normal\",\"JOLI\", \"g\"]);"
   ]
  },
  {
   "cell_type": "code",
   "execution_count": 16,
   "metadata": {
    "scrolled": true
   },
   "outputs": [
    {
     "name": "stdout",
     "output_type": "stream",
     "text": [
      "\u001b[32m\u001b[1m  Updating\u001b[22m\u001b[39m registry at `~/.julia/registries/General`\n",
      "\u001b[32m\u001b[1m  Updating\u001b[22m\u001b[39m git-repo `https://github.com/JuliaRegistries/General.git`\n",
      "\u001b[2K\u001b[?25h[1mFetching:\u001b[22m\u001b[39m [========================================>]  100.0 %.0 %========>                                ]  18.1 %36.1 %======================>                  ]  54.2 %]  72.2 %.0 %\u001b[32m\u001b[1m  Updating\u001b[22m\u001b[39m registry at `~/.julia/registries/SLIMregistryJL`\n",
      "\u001b[32m\u001b[1m  Updating\u001b[22m\u001b[39m git-repo `https://github.com/slimgroup/SLIMregistryJL.git`\n",
      "\u001b[?25l\u001b[2K\u001b[?25h\u001b[32m\u001b[1m Resolving\u001b[22m\u001b[39m package versions...\n",
      "\u001b[32m\u001b[1m Installed\u001b[22m\u001b[39m WoodburyMatrices ─ v0.5.1\n",
      "\u001b[32m\u001b[1m Installed\u001b[22m\u001b[39m LaTeXStrings ───── v1.1.0\n",
      "\u001b[32m\u001b[1m Installed\u001b[22m\u001b[39m Polynomials ────── v0.6.1\n",
      "\u001b[32m\u001b[1m Installed\u001b[22m\u001b[39m DataStructures ─── v0.17.10\n",
      "\u001b[32m\u001b[1m Installed\u001b[22m\u001b[39m HTTP ───────────── v0.8.11\n",
      "\u001b[32m\u001b[1m Installed\u001b[22m\u001b[39m GeometryTypes ──── v0.7.9\n",
      "\u001b[32m\u001b[1m  Updating\u001b[22m\u001b[39m `~/.julia/environments/v1.2/Project.toml`\n",
      "\u001b[90m [no changes]\u001b[39m\n",
      "\u001b[32m\u001b[1m  Updating\u001b[22m\u001b[39m `~/.julia/environments/v1.2/Manifest.toml`\n",
      " \u001b[90m [864edb3b]\u001b[39m\u001b[93m ↑ DataStructures v0.17.9 ⇒ v0.17.10\u001b[39m\n",
      " \u001b[90m [4d00f742]\u001b[39m\u001b[93m ↑ GeometryTypes v0.7.7 ⇒ v0.7.9\u001b[39m\n",
      " \u001b[90m [cd3eb016]\u001b[39m\u001b[93m ↑ HTTP v0.8.8 ⇒ v0.8.11\u001b[39m\n",
      " \u001b[90m [b964fa9f]\u001b[39m\u001b[93m ↑ LaTeXStrings v1.0.3 ⇒ v1.1.0\u001b[39m\n",
      " \u001b[90m [f27b6e38]\u001b[39m\u001b[93m ↑ Polynomials v0.6.0 ⇒ v0.6.1\u001b[39m\n",
      " \u001b[90m [efce3f68]\u001b[39m\u001b[93m ↑ WoodburyMatrices v0.5.0 ⇒ v0.5.1\u001b[39m\n"
     ]
    },
    {
     "data": {
      "text/plain": [
       "2001-element Array{Float64,1}:\n",
       " -0.026711020407238755 \n",
       " -0.02430458845003921  \n",
       " -0.021732823699727465 \n",
       " -0.01903229844938986  \n",
       " -0.01624223584966089  \n",
       " -0.013403650118892975 \n",
       " -0.01055844905996742  \n",
       " -0.007748521131999995 \n",
       " -0.005014829434839256 \n",
       " -0.0023965345046637054\n",
       "  6.983318839339968e-5 \n",
       "  0.0023511316695113424\n",
       "  0.004418279428671759 \n",
       "  ⋮                    \n",
       " -0.03568039275658377  \n",
       " -0.036367167385888986 \n",
       " -0.036839448269382076 \n",
       " -0.03707193278694536  \n",
       " -0.037043681395473434 \n",
       " -0.036738716043437224 \n",
       " -0.03614649561688319  \n",
       " -0.035262256601174845 \n",
       " -0.03408721073472233  \n",
       " -0.03262859519536173  \n",
       " -0.030899574695754523 \n",
       " -0.028918998669671653 "
      ]
     },
     "execution_count": 16,
     "metadata": {},
     "output_type": "execute_result"
    }
   ],
   "source": [
    "import Pkg;\n",
    "Pkg.add(\"IterativeSolvers\")\n",
    "# true signal\n",
    "f = C*g + 1e-3*randn(N,1);\n",
    "\n",
    "using IterativeSolvers\n",
    "gt = lsqr(C, f[:,1], damp=1e0)"
   ]
  },
  {
   "cell_type": "code",
   "execution_count": 19,
   "metadata": {},
   "outputs": [],
   "source": [
    "using LinearAlgebra\n",
    "# Solve\n",
    "opts = spgOptions(optTol = 1e-10,\n",
    "                  verbosity = 1)\n",
    "\n",
    "#gtt, r, grads, info = spgl1(C, vec(f), tau = 0., sigma = norm(f - C*gt));"
   ]
  },
  {
   "cell_type": "code",
   "execution_count": null,
   "metadata": {},
   "outputs": [],
   "source": [
    "GenSPGL.spgOptions(1, 1, 100000, 3, 1.0e-6, 1.0e-6, 1.0e-10, 0.0001, 1.0e-16, 100000.0, 2, Inf, false, Nullable{Bool}(), Inf, [1], false, 3, 1, 10000, false, GenSPGL.NormL1_project, GenSPGL.NormL1_primal, GenSPGL.NormL1_dual, GenSPGL.funLS, false, false, false)"
   ]
  }
 ],
 "metadata": {
  "kernelspec": {
   "display_name": "Julia 1.2.0",
   "language": "julia",
   "name": "julia-1.2"
  },
  "language_info": {
   "file_extension": ".jl",
   "mimetype": "application/julia",
   "name": "julia",
   "version": "1.2.0"
  }
 },
 "nbformat": 4,
 "nbformat_minor": 2
}
