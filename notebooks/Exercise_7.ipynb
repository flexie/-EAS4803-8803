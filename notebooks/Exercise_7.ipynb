{
 "cells": [
  {
   "cell_type": "markdown",
   "metadata": {},
   "source": [
    "# Exercise 7 : Waveform inversion\n",
    "\n",
    "With waveform inversion we try to find the velocity model for which the modeled data optimally fits the observed data in a least-squares sense. Mathematically, we try to solve the following optimization problem:\n",
    "\n",
    "where  is the modeling operator and  is the observed data.\n",
    "\n",
    "Contents:\n",
    "- Camambert model\n",
    "- Modeling\n",
    "- Optimization\n",
    "- Inversion\n",
    "\n",
    "To illustrate some key properties of the waveform inversion problem, we are going to conduct some experiments on the famous 'Camambert' model.\n",
    "\n",
    "# Camambert model:\n",
    "\n",
    "The Camambert model consists of a circular perturbation,  , superimposed on a homogeneous medium,  , with velocity 2500 m/s."
   ]
  },
  {
   "cell_type": "code",
   "execution_count": 1,
   "metadata": {},
   "outputs": [],
   "source": [
    "using JUDI.TimeModeling, JUDI.SLIM_optim, PyPlot, SeisIO"
   ]
  },
  {
   "cell_type": "code",
   "execution_count": 2,
   "metadata": {},
   "outputs": [
    {
     "data": {
      "text/plain": [
       "101×101 Array{Float64,2}:\n",
       " 0.444444  0.444444  0.444444  0.444444  …  0.444444  0.444444  0.444444\n",
       " 0.444444  0.444444  0.444444  0.444444     0.444444  0.444444  0.444444\n",
       " 0.444444  0.444444  0.444444  0.444444     0.444444  0.444444  0.444444\n",
       " 0.444444  0.444444  0.444444  0.444444     0.444444  0.444444  0.444444\n",
       " 0.444444  0.444444  0.444444  0.444444     0.444444  0.444444  0.444444\n",
       " 0.444444  0.444444  0.444444  0.444444  …  0.444444  0.444444  0.444444\n",
       " 0.444444  0.444444  0.444444  0.444444     0.444444  0.444444  0.444444\n",
       " 0.444444  0.444444  0.444444  0.444444     0.444444  0.444444  0.444444\n",
       " 0.444444  0.444444  0.444444  0.444444     0.444444  0.444444  0.444444\n",
       " 0.444444  0.444444  0.444444  0.444444     0.444444  0.444444  0.444444\n",
       " 0.444444  0.444444  0.444444  0.444444  …  0.444444  0.444444  0.444444\n",
       " 0.444444  0.444444  0.444444  0.444444     0.444444  0.444444  0.444444\n",
       " 0.444444  0.444444  0.444444  0.444444     0.444444  0.444444  0.444444\n",
       " ⋮                                       ⋱                      ⋮       \n",
       " 0.444444  0.444444  0.444444  0.444444     0.444444  0.444444  0.444444\n",
       " 0.444444  0.444444  0.444444  0.444444  …  0.444444  0.444444  0.444444\n",
       " 0.444444  0.444444  0.444444  0.444444     0.444444  0.444444  0.444444\n",
       " 0.444444  0.444444  0.444444  0.444444     0.444444  0.444444  0.444444\n",
       " 0.444444  0.444444  0.444444  0.444444     0.444444  0.444444  0.444444\n",
       " 0.444444  0.444444  0.444444  0.444444     0.444444  0.444444  0.444444\n",
       " 0.444444  0.444444  0.444444  0.444444  …  0.444444  0.444444  0.444444\n",
       " 0.444444  0.444444  0.444444  0.444444     0.444444  0.444444  0.444444\n",
       " 0.444444  0.444444  0.444444  0.444444     0.444444  0.444444  0.444444\n",
       " 0.444444  0.444444  0.444444  0.444444     0.444444  0.444444  0.444444\n",
       " 0.444444  0.444444  0.444444  0.444444     0.444444  0.444444  0.444444\n",
       " 0.444444  0.444444  0.444444  0.444444  …  0.444444  0.444444  0.444444"
      ]
     },
     "execution_count": 2,
     "metadata": {},
     "output_type": "execute_result"
    }
   ],
   "source": [
    "# Velocity model\n",
    "\n",
    "# number of gridpoints\n",
    "n = (101, 101)\n",
    "\n",
    "# Grid spacing\n",
    "d = (10.0, 10.0)\n",
    "\n",
    "# Origin\n",
    "o = (0., 0.)\n",
    "\n",
    "x = zeros(n)\n",
    "z = zeros(n)\n",
    "\n",
    "for i in 0:100\n",
    "    x[i+1, :] = i*10\n",
    "    z[:, i+1] = i*10\n",
    "end\n",
    "\n",
    "# \n",
    "vp = 1.5 * ones(Float32, n)\n",
    "vp[find(sqrt.((x-500).^2 +(z-500).^2) .>250)]=2.5\n",
    "m = 1./vp.^2\n",
    "#\n",
    "v0 = 1.5 * ones(Float32, n)\n",
    "m0 = 1./v0.^2"
   ]
  },
  {
   "cell_type": "code",
   "execution_count": 3,
   "metadata": {},
   "outputs": [
    {
     "data": {
      "image/png": "[encoded data removed]",
      "text/plain": [
       "PyPlot.Figure(PyObject <Figure size 640x480 with 1 Axes>)"
      ]
     },
     "metadata": {},
     "output_type": "display_data"
    },
    {
     "data": {
      "text/plain": [
       "PyObject <matplotlib.image.AxesImage object at 0x7f56dbf57320>"
      ]
     },
     "execution_count": 3,
     "metadata": {},
     "output_type": "execute_result"
    }
   ],
   "source": [
    "imshow(m)"
   ]
  },
  {
   "cell_type": "code",
   "execution_count": 4,
   "metadata": {},
   "outputs": [
    {
     "data": {
      "text/plain": [
       "JUDI.TimeModeling.Model((101, 101), (10.0, 10.0), (0.0, 0.0), 40, [0.16 0.16 … 0.16 0.16; 0.16 0.16 … 0.16 0.16; … ; 0.16 0.16 … 0.16 0.16; 0.16 0.16 … 0.16 0.16], 1)"
      ]
     },
     "execution_count": 4,
     "metadata": {},
     "output_type": "execute_result"
    }
   ],
   "source": [
    "# Set up model structure w/ squared slowness\n",
    "model0 = Model(n, d, o, m0)\n",
    "model = Model(n, d, o, m)"
   ]
  },
  {
   "cell_type": "markdown",
   "metadata": {},
   "source": [
    "# Source geometry"
   ]
  },
  {
   "cell_type": "code",
   "execution_count": 5,
   "metadata": {},
   "outputs": [
    {
     "data": {
      "text/plain": [
       "JUDI.TimeModeling.GeometryIC(Any[10.0, 118.889, 227.778, 336.667, 445.556, 554.444, 663.333, 772.222, 881.111, 990.0], Any[0.0, 0.0, 0.0, 0.0, 0.0, 0.0, 0.0, 0.0, 0.0, 0.0], Any[10.0, 10.0, 10.0, 10.0, 10.0, 10.0, 10.0, 10.0, 10.0, 10.0], Any[2.0, 2.0, 2.0, 2.0, 2.0, 2.0, 2.0, 2.0, 2.0, 2.0], Any[501, 501, 501, 501, 501, 501, 501, 501, 501, 501], Any[1000.0, 1000.0, 1000.0, 1000.0, 1000.0, 1000.0, 1000.0, 1000.0, 1000.0, 1000.0])"
      ]
     },
     "execution_count": 5,
     "metadata": {},
     "output_type": "execute_result"
    }
   ],
   "source": [
    "# Sources\n",
    "nsrc = 10\n",
    "xsrc = convertToCell(linspace(10, 990., nsrc))\n",
    "ysrc = convertToCell(linspace(0., 0., nsrc))\n",
    "zsrc = convertToCell(linspace(10., 10., nsrc))\n",
    "# source sampling and number of time steps\n",
    "timeS = 1000.\n",
    "dtS = 2.\n",
    "\n",
    "# Set up source structure\n",
    "srcGeometry = Geometry(xsrc,ysrc,zsrc; dt=dtS, t=timeS)"
   ]
  },
  {
   "cell_type": "markdown",
   "metadata": {},
   "source": [
    "# Receiver geometry"
   ]
  },
  {
   "cell_type": "code",
   "execution_count": 6,
   "metadata": {},
   "outputs": [
    {
     "data": {
      "text/plain": [
       "JUDI.TimeModeling.GeometryIC(Any[10.0:20.0:990.0, 10.0:20.0:990.0, 10.0:20.0:990.0, 10.0:20.0:990.0, 10.0:20.0:990.0, 10.0:20.0:990.0, 10.0:20.0:990.0, 10.0:20.0:990.0, 10.0:20.0:990.0, 10.0:20.0:990.0], Any[0.0, 0.0, 0.0, 0.0, 0.0, 0.0, 0.0, 0.0, 0.0, 0.0], Any[990.0:0.0:990.0, 990.0:0.0:990.0, 990.0:0.0:990.0, 990.0:0.0:990.0, 990.0:0.0:990.0, 990.0:0.0:990.0, 990.0:0.0:990.0, 990.0:0.0:990.0, 990.0:0.0:990.0, 990.0:0.0:990.0], Any[2.0, 2.0, 2.0, 2.0, 2.0, 2.0, 2.0, 2.0, 2.0, 2.0], Any[501, 501, 501, 501, 501, 501, 501, 501, 501, 501], Any[1000.0, 1000.0, 1000.0, 1000.0, 1000.0, 1000.0, 1000.0, 1000.0, 1000.0, 1000.0])"
      ]
     },
     "execution_count": 6,
     "metadata": {},
     "output_type": "execute_result"
    }
   ],
   "source": [
    "# Receievers reflection\n",
    "nrec = 50\n",
    "xrec = linspace(10, 990., nrec)\n",
    "yrec = 0.\n",
    "zrec = linspace(10., 10., nrec)\n",
    "# source sampling and number of time steps\n",
    "timeR = 1000.\n",
    "dtR = 2.\n",
    "\n",
    "# Set up receiver structure\n",
    "recGeometry_reflection = Geometry(xrec,yrec,zrec;dt=dtR,t=timeR, nsrc=nsrc)\n",
    "\n",
    "# Receievers transmission\n",
    "nrec = 50\n",
    "xrec = linspace(10, 990., nrec)\n",
    "yrec = 0.\n",
    "zrec = linspace(990., 990., nrec)\n",
    "# source sampling and number of time steps\n",
    "timeR = 1000.\n",
    "dtR = 2.\n",
    "\n",
    "# Set up receiver structure\n",
    "recGeometry_transmission = Geometry(xrec,yrec,zrec;dt=dtR,t=timeR, nsrc=nsrc)"
   ]
  },
  {
   "cell_type": "markdown",
   "metadata": {},
   "source": [
    "# Optimization\n",
    "\n",
    "lbfgs (minConf_PQN here) can be used to solve optimization problems of the form:\n",
    "\n",
    "$\\min_{\\mathbf{m}}\\quad \\phi(\\mathbf{m})$\n",
    "\n",
    "The method needs a function that calculates the misfit and gradient. The gradient of the LS misfit:\n",
    "\n",
    "$\\phi(\\mathbf{m}) = \\frac{1}{2}|F(\\mathbf{m}) {-} \\mathbf{d}|_2^2$\n",
    "\n",
    "is given by\n",
    "\n",
    "$\\nabla\\phi(\\mathbf{m}) = J(\\mathbf{m})^*(F(\\mathbf{m}) {-} \\mathbf{d})$\n",
    "\n",
    "where $J(\\mathbf{m})$ is the Jacobian matrix of $F$ and $^*# denotes the complex-conjugate-transpose (' in Julia). The Jacobian is provided by the modeling operator: `J = judiJacobian(F, q)`\n",
    "\n",
    "Write a julia function misfit(m) that returns the value of the misfit and the gradient for the given model `m`.\n",
    "minConf_SQP that function as an input\n"
   ]
  },
  {
   "cell_type": "markdown",
   "metadata": {},
   "source": [
    "# Inversion\n",
    "\n",
    "In the following experiments we will vary acquisition setup to emulatate a reflection and a transmission experiment:\n",
    "\n",
    "Reflection setup: `reflection_data.segy`.\n",
    "Transmission setup:`transmission_data.segy`.\n",
    "\n",
    "- define the function-handle as described above.\n",
    "- define an initial model m0 by converting v0 to the proper units.\n",
    "- use lbfgs| for a small amount of iterations (10, say).\n",
    "\n",
    "Compare the results of both experiments in terms of:\n",
    "\n",
    "- reconstruction\n",
    "- data-fit\n",
    "\n",
    "\n",
    "In order to obtain nice conergence use the following bound constraint\n",
    "\n",
    "# Bound projection\n",
    "ProjBound(x) = boundproject(x, maximum(m), .9*minimum(m))"
   ]
  },
  {
   "cell_type": "markdown",
   "metadata": {},
   "source": [
    "# Setup"
   ]
  },
  {
   "cell_type": "code",
   "execution_count": 7,
   "metadata": {},
   "outputs": [
    {
     "data": {
      "text/plain": [
       "JUDI.TimeModeling.Info(10201, 10, Any[595, 595, 595, 595, 595, 595, 595, 595, 595, 595])"
      ]
     },
     "execution_count": 7,
     "metadata": {},
     "output_type": "execute_result"
    }
   ],
   "source": [
    "# To setup the operator in for example the reflection case\n",
    "\n",
    "# setup wavelet\n",
    "f0 = 0.01  # 5 Hz wavelet\n",
    "wavelet = ricker_wavelet(timeS, dtS, f0)\n",
    "q = judiVector(srcGeometry, wavelet)\n",
    "\n",
    "\n",
    "# Set up info structure for linear operators\n",
    "ntComp = get_computational_nt(srcGeometry, recGeometry_reflection, model)\n",
    "info = Info(prod(n), nsrc, ntComp)"
   ]
  },
  {
   "cell_type": "code",
   "execution_count": 8,
   "metadata": {},
   "outputs": [
    {
     "data": {
      "text/plain": [
       "JUDI.TimeModeling.judiPDEfull{Float32,Float32}(\"Proj*F*Proj'\", 250500, 5010, JUDI.TimeModeling.Info(10201, 10, Any[595, 595, 595, 595, 595, 595, 595, 595, 595, 595]), JUDI.TimeModeling.Model((101, 101), (10.0, 10.0), (0.0, 0.0), 40, [0.16 0.16 … 0.16 0.16; 0.16 0.16 … 0.16 0.16; … ; 0.16 0.16 … 0.16 0.16; 0.16 0.16 … 0.16 0.16], 1), JUDI.TimeModeling.GeometryIC(Any[10.0, 118.889, 227.778, 336.667, 445.556, 554.444, 663.333, 772.222, 881.111, 990.0], Any[0.0, 0.0, 0.0, 0.0, 0.0, 0.0, 0.0, 0.0, 0.0, 0.0], Any[10.0, 10.0, 10.0, 10.0, 10.0, 10.0, 10.0, 10.0, 10.0, 10.0], Any[2.0, 2.0, 2.0, 2.0, 2.0, 2.0, 2.0, 2.0, 2.0, 2.0], Any[501, 501, 501, 501, 501, 501, 501, 501, 501, 501], Any[1000.0, 1000.0, 1000.0, 1000.0, 1000.0, 1000.0, 1000.0, 1000.0, 1000.0, 1000.0]), JUDI.TimeModeling.GeometryIC(Any[10.0:20.0:990.0, 10.0:20.0:990.0, 10.0:20.0:990.0, 10.0:20.0:990.0, 10.0:20.0:990.0, 10.0:20.0:990.0, 10.0:20.0:990.0, 10.0:20.0:990.0, 10.0:20.0:990.0, 10.0:20.0:990.0], Any[0.0, 0.0, 0.0, 0.0, 0.0, 0.0, 0.0, 0.0, 0.0, 0.0], Any[990.0:0.0:990.0, 990.0:0.0:990.0, 990.0:0.0:990.0, 990.0:0.0:990.0, 990.0:0.0:990.0, 990.0:0.0:990.0, 990.0:0.0:990.0, 990.0:0.0:990.0, 990.0:0.0:990.0, 990.0:0.0:990.0], Any[2.0, 2.0, 2.0, 2.0, 2.0, 2.0, 2.0, 2.0, 2.0, 2.0], Any[501, 501, 501, 501, 501, 501, 501, 501, 501, 501], Any[1000.0, 1000.0, 1000.0, 1000.0, 1000.0, 1000.0, 1000.0, 1000.0, 1000.0, 1000.0]), JUDI.TimeModeling.Options(16, 0, false, 1000.0, false, \"\", \"shot\", false, false, false, Any[], \"noop\", 1, 1, Dict{Any,Any}(), false, false, true), JUDI.TimeModeling.#87, Nullable{Function}(JUDI.TimeModeling.#88))"
      ]
     },
     "execution_count": 8,
     "metadata": {},
     "output_type": "execute_result"
    }
   ],
   "source": [
    "\n",
    "F_r = judiModeling(info, model, srcGeometry, recGeometry_reflection)\n",
    "\n",
    "F_t = judiModeling(info, model, srcGeometry, recGeometry_transmission)"
   ]
  },
  {
   "cell_type": "code",
   "execution_count": 9,
   "metadata": {},
   "outputs": [
    {
     "data": {
      "text/plain": [
       "JUDI.TimeModeling.judiVector{Float32}(\"Seismic data vector\", 250500, 1, 10, JUDI.TimeModeling.GeometryIC(Any[10.0:20.0:990.0, 10.0:20.0:990.0, 10.0:20.0:990.0, 10.0:20.0:990.0, 10.0:20.0:990.0, 10.0:20.0:990.0, 10.0:20.0:990.0, 10.0:20.0:990.0, 10.0:20.0:990.0, 10.0:20.0:990.0], Any[0.0, 0.0, 0.0, 0.0, 0.0, 0.0, 0.0, 0.0, 0.0, 0.0], Any[990.0:0.0:990.0, 990.0:0.0:990.0, 990.0:0.0:990.0, 990.0:0.0:990.0, 990.0:0.0:990.0, 990.0:0.0:990.0, 990.0:0.0:990.0, 990.0:0.0:990.0, 990.0:0.0:990.0, 990.0:0.0:990.0], Any[2.0, 2.0, 2.0, 2.0, 2.0, 2.0, 2.0, 2.0, 2.0, 2.0], Any[501, 501, 501, 501, 501, 501, 501, 501, 501, 501], Any[1000.0, 1000.0, 1000.0, 1000.0, 1000.0, 1000.0, 1000.0, 1000.0, 1000.0, 1000.0]), Array[Float32[0.0 -0.0 … -0.0 0.0; 0.0 -0.0 … -0.0 0.0; … ; -0.0530398 -0.105493 … 0.0912436 0.0912222; 0.0 0.0 … 0.0 0.0], Float32[0.0 -0.0 … 0.0 -0.0; 0.0 -0.0 … 0.0 -0.0; … ; -0.163198 -0.1326 … 0.0793813 0.0707329; 0.0 0.0 … 0.0 0.0], Float32[-0.0 -0.0 … -0.0 0.0; -0.0 -0.0 … -0.0 0.0; … ; -0.0650246 -0.0526546 … -0.0409185 -0.0227038; 0.0 0.0 … 0.0 0.0], Float32[0.0 0.0 … -0.0 -0.0; 0.0 0.0 … -0.0 -0.0; … ; -0.00835689 -0.00488237 … -0.136689 -0.139417; 0.0 0.0 … 0.0 0.0], Float32[0.0 0.0 … -0.0 -0.0; 0.0 0.0 … -0.0 -0.0; … ; -0.0435937 -0.0542284 … -0.0791018 -0.0741468; 0.0 0.0 … 0.0 0.0], Float32[-0.0 -0.0 … 0.0 0.0; -0.0 -0.0 … 0.0 0.0; … ; -0.0713222 -0.0758456 … -0.0577332 -0.047503; 0.0 0.0 … 0.0 0.0], Float32[-0.0 -0.0 … 0.0 0.0; -0.0 -0.0 … 0.0 0.0; … ; -0.132373 -0.128922 … -0.00843494 -0.0125989; 0.0 0.0 … 0.0 0.0], Float32[0.0 -0.0 … -0.0 -0.0; 0.0 -0.0 … -0.0 -0.0; … ; -0.0252286 -0.0443321 … -0.0533685 -0.0656332; 0.0 0.0 … 0.0 0.0], Float32[-0.0 0.0 … -0.0 0.0; -0.0 0.0 … -0.0 0.0; … ; 0.0621887 0.0727411 … -0.131333 -0.161669; 0.0 0.0 … 0.0 0.0], Float32[0.0 -0.0 … -0.0 0.0; 0.0 -0.0 … -0.0 0.0; … ; 0.0911738 0.0933601 … -0.104454 -0.0521172; 0.0 0.0 … 0.0 0.0]])"
      ]
     },
     "execution_count": 9,
     "metadata": {},
     "output_type": "execute_result"
    }
   ],
   "source": [
    "d_trans = F_t * q"
   ]
  },
  {
   "cell_type": "code",
   "execution_count": 10,
   "metadata": {},
   "outputs": [
    {
     "data": {
      "text/plain": [
       "f (generic function with 1 method)"
      ]
     },
     "execution_count": 10,
     "metadata": {},
     "output_type": "execute_result"
    }
   ],
   "source": [
    "function f(x)\n",
    "    \n",
    "    # Update model\n",
    "    model0.m = convert(Array{Float32, 2}, reshape(x, model0.n))\n",
    "    F0_t = judiModeling(info, model0, srcGeometry, recGeometry_transmission)\n",
    "    J = judiJacobian(F0_t, q)\n",
    "    \n",
    "    # Synthetic data\n",
    "    d_syn = F0_t*q\n",
    "    \n",
    "    # residual\n",
    "    \n",
    "    residual = d_syn - d_trans\n",
    "    \n",
    "    # Misfit\n",
    "    \n",
    "    f = .5*norm(residual)^2\n",
    "    \n",
    "    # gradient\n",
    "    \n",
    "    grad = J'*residual\n",
    "    \n",
    "    return f, vec(grad)\n",
    "end\n",
    "    "
   ]
  },
  {
   "cell_type": "code",
   "execution_count": null,
   "metadata": {},
   "outputs": [],
   "source": [
    "# invert\n",
    "options = pqn_options(verbose=3, maxIter=10, corrections=10)\n",
    "# Bound projection\n",
    "ProjBound(x) = boundproject(x, maximum(m), .9*minimum(m))\n",
    "x, fsave, funEvals= minConf_PQN(f, vec(m0), ProjBound, options)"
   ]
  }
 ],
 "metadata": {
  "kernelspec": {
   "display_name": "Julia 0.6.4",
   "language": "julia",
   "name": "julia-0.6"
  },
  "language_info": {
   "file_extension": ".jl",
   "mimetype": "application/julia",
   "name": "julia",
   "version": "0.6.4"
  }
 },
 "nbformat": 4,
 "nbformat_minor": 2
}
